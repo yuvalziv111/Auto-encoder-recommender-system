{
 "cells": [
  {
   "cell_type": "markdown",
   "metadata": {},
   "source": [
    "## Imports"
   ]
  },
  {
   "cell_type": "code",
   "execution_count": 3,
   "metadata": {},
   "outputs": [],
   "source": [
    "import pandas as pd\n",
    "import numpy as np\n",
    "import random\n",
    "from torch.utils.data import DataLoader, Dataset\n",
    "from torch import optim\n",
    "from tqdm import tqdm\n",
    "from scipy.sparse import csr_matrix\n",
    "from sklearn.model_selection import train_test_split\n",
    "from matplotlib.ticker import MaxNLocator\n",
    "import torch\n",
    "import torch.nn as nn\n",
    "import torch.nn.functional as F\n",
    "import csv\n",
    "\n",
    "import matplotlib.pyplot as plt\n",
    "from sklearn.metrics import recall_score\n",
    "\n",
    "random.seed(42)"
   ]
  },
  {
   "cell_type": "markdown",
   "metadata": {},
   "source": [
    "## Data Preperation and processing"
   ]
  },
  {
   "cell_type": "code",
   "execution_count": 4,
   "metadata": {},
   "outputs": [
    {
     "data": {
      "text/html": [
       "<div>\n",
       "<style scoped>\n",
       "    .dataframe tbody tr th:only-of-type {\n",
       "        vertical-align: middle;\n",
       "    }\n",
       "\n",
       "    .dataframe tbody tr th {\n",
       "        vertical-align: top;\n",
       "    }\n",
       "\n",
       "    .dataframe thead th {\n",
       "        text-align: right;\n",
       "    }\n",
       "</style>\n",
       "<table border=\"1\" class=\"dataframe\">\n",
       "  <thead>\n",
       "    <tr style=\"text-align: right;\">\n",
       "      <th></th>\n",
       "      <th>UserID</th>\n",
       "      <th>ItemID</th>\n",
       "    </tr>\n",
       "  </thead>\n",
       "  <tbody>\n",
       "    <tr>\n",
       "      <th>count</th>\n",
       "      <td>988129.000000</td>\n",
       "      <td>988129.000000</td>\n",
       "    </tr>\n",
       "    <tr>\n",
       "      <th>mean</th>\n",
       "      <td>3017.777691</td>\n",
       "      <td>1800.495898</td>\n",
       "    </tr>\n",
       "    <tr>\n",
       "      <th>std</th>\n",
       "      <td>1740.928305</td>\n",
       "      <td>1092.948991</td>\n",
       "    </tr>\n",
       "    <tr>\n",
       "      <th>min</th>\n",
       "      <td>1.000000</td>\n",
       "      <td>1.000000</td>\n",
       "    </tr>\n",
       "    <tr>\n",
       "      <th>25%</th>\n",
       "      <td>1508.000000</td>\n",
       "      <td>826.000000</td>\n",
       "    </tr>\n",
       "    <tr>\n",
       "      <th>50%</th>\n",
       "      <td>3016.000000</td>\n",
       "      <td>1756.000000</td>\n",
       "    </tr>\n",
       "    <tr>\n",
       "      <th>75%</th>\n",
       "      <td>4510.000000</td>\n",
       "      <td>2764.000000</td>\n",
       "    </tr>\n",
       "    <tr>\n",
       "      <th>max</th>\n",
       "      <td>6040.000000</td>\n",
       "      <td>3706.000000</td>\n",
       "    </tr>\n",
       "  </tbody>\n",
       "</table>\n",
       "</div>"
      ],
      "text/plain": [
       "              UserID         ItemID\n",
       "count  988129.000000  988129.000000\n",
       "mean     3017.777691    1800.495898\n",
       "std      1740.928305    1092.948991\n",
       "min         1.000000       1.000000\n",
       "25%      1508.000000     826.000000\n",
       "50%      3016.000000    1756.000000\n",
       "75%      4510.000000    2764.000000\n",
       "max      6040.000000    3706.000000"
      ]
     },
     "execution_count": 4,
     "metadata": {},
     "output_type": "execute_result"
    }
   ],
   "source": [
    "train=pd.read_csv(\"Train.csv\")\n",
    "train.describe() #reading all the data into pandas df"
   ]
  },
  {
   "cell_type": "code",
   "execution_count": 5,
   "metadata": {},
   "outputs": [
    {
     "data": {
      "text/html": [
       "<div>\n",
       "<style scoped>\n",
       "    .dataframe tbody tr th:only-of-type {\n",
       "        vertical-align: middle;\n",
       "    }\n",
       "\n",
       "    .dataframe tbody tr th {\n",
       "        vertical-align: top;\n",
       "    }\n",
       "\n",
       "    .dataframe thead th {\n",
       "        text-align: right;\n",
       "    }\n",
       "</style>\n",
       "<table border=\"1\" class=\"dataframe\">\n",
       "  <thead>\n",
       "    <tr style=\"text-align: right;\">\n",
       "      <th></th>\n",
       "      <th>UserID</th>\n",
       "      <th>Item1</th>\n",
       "      <th>Item2</th>\n",
       "    </tr>\n",
       "  </thead>\n",
       "  <tbody>\n",
       "    <tr>\n",
       "      <th>count</th>\n",
       "      <td>6040.000000</td>\n",
       "      <td>6040.000000</td>\n",
       "      <td>6040.000000</td>\n",
       "    </tr>\n",
       "    <tr>\n",
       "      <th>mean</th>\n",
       "      <td>3020.500000</td>\n",
       "      <td>1804.040066</td>\n",
       "      <td>1805.266225</td>\n",
       "    </tr>\n",
       "    <tr>\n",
       "      <th>std</th>\n",
       "      <td>1743.742145</td>\n",
       "      <td>1086.962441</td>\n",
       "      <td>1097.934573</td>\n",
       "    </tr>\n",
       "    <tr>\n",
       "      <th>min</th>\n",
       "      <td>1.000000</td>\n",
       "      <td>1.000000</td>\n",
       "      <td>1.000000</td>\n",
       "    </tr>\n",
       "    <tr>\n",
       "      <th>25%</th>\n",
       "      <td>1510.750000</td>\n",
       "      <td>840.000000</td>\n",
       "      <td>814.000000</td>\n",
       "    </tr>\n",
       "    <tr>\n",
       "      <th>50%</th>\n",
       "      <td>3020.500000</td>\n",
       "      <td>1775.000000</td>\n",
       "      <td>1782.000000</td>\n",
       "    </tr>\n",
       "    <tr>\n",
       "      <th>75%</th>\n",
       "      <td>4530.250000</td>\n",
       "      <td>2764.250000</td>\n",
       "      <td>2776.500000</td>\n",
       "    </tr>\n",
       "    <tr>\n",
       "      <th>max</th>\n",
       "      <td>6040.000000</td>\n",
       "      <td>3706.000000</td>\n",
       "      <td>3706.000000</td>\n",
       "    </tr>\n",
       "  </tbody>\n",
       "</table>\n",
       "</div>"
      ],
      "text/plain": [
       "            UserID        Item1        Item2\n",
       "count  6040.000000  6040.000000  6040.000000\n",
       "mean   3020.500000  1804.040066  1805.266225\n",
       "std    1743.742145  1086.962441  1097.934573\n",
       "min       1.000000     1.000000     1.000000\n",
       "25%    1510.750000   840.000000   814.000000\n",
       "50%    3020.500000  1775.000000  1782.000000\n",
       "75%    4530.250000  2764.250000  2776.500000\n",
       "max    6040.000000  3706.000000  3706.000000"
      ]
     },
     "execution_count": 5,
     "metadata": {},
     "output_type": "execute_result"
    }
   ],
   "source": [
    "random_test=pd.read_csv(\"RandomTest.csv\")\n",
    "random_test.describe()"
   ]
  },
  {
   "cell_type": "code",
   "execution_count": 6,
   "metadata": {},
   "outputs": [
    {
     "data": {
      "text/html": [
       "<div>\n",
       "<style scoped>\n",
       "    .dataframe tbody tr th:only-of-type {\n",
       "        vertical-align: middle;\n",
       "    }\n",
       "\n",
       "    .dataframe tbody tr th {\n",
       "        vertical-align: top;\n",
       "    }\n",
       "\n",
       "    .dataframe thead th {\n",
       "        text-align: right;\n",
       "    }\n",
       "</style>\n",
       "<table border=\"1\" class=\"dataframe\">\n",
       "  <thead>\n",
       "    <tr style=\"text-align: right;\">\n",
       "      <th></th>\n",
       "      <th>UserID</th>\n",
       "      <th>ItemID</th>\n",
       "    </tr>\n",
       "  </thead>\n",
       "  <tbody>\n",
       "    <tr>\n",
       "      <th>0</th>\n",
       "      <td>1963</td>\n",
       "      <td>2102</td>\n",
       "    </tr>\n",
       "    <tr>\n",
       "      <th>1</th>\n",
       "      <td>1963</td>\n",
       "      <td>1156</td>\n",
       "    </tr>\n",
       "    <tr>\n",
       "      <th>2</th>\n",
       "      <td>1963</td>\n",
       "      <td>2555</td>\n",
       "    </tr>\n",
       "    <tr>\n",
       "      <th>3</th>\n",
       "      <td>1963</td>\n",
       "      <td>734</td>\n",
       "    </tr>\n",
       "    <tr>\n",
       "      <th>4</th>\n",
       "      <td>1963</td>\n",
       "      <td>307</td>\n",
       "    </tr>\n",
       "  </tbody>\n",
       "</table>\n",
       "</div>"
      ],
      "text/plain": [
       "   UserID  ItemID\n",
       "0    1963    2102\n",
       "1    1963    1156\n",
       "2    1963    2555\n",
       "3    1963     734\n",
       "4    1963     307"
      ]
     },
     "execution_count": 6,
     "metadata": {},
     "output_type": "execute_result"
    }
   ],
   "source": [
    "train.head()"
   ]
  },
  {
   "cell_type": "code",
   "execution_count": 7,
   "metadata": {},
   "outputs": [
    {
     "data": {
      "text/html": [
       "<div>\n",
       "<style scoped>\n",
       "    .dataframe tbody tr th:only-of-type {\n",
       "        vertical-align: middle;\n",
       "    }\n",
       "\n",
       "    .dataframe tbody tr th {\n",
       "        vertical-align: top;\n",
       "    }\n",
       "\n",
       "    .dataframe thead th {\n",
       "        text-align: right;\n",
       "    }\n",
       "</style>\n",
       "<table border=\"1\" class=\"dataframe\">\n",
       "  <thead>\n",
       "    <tr style=\"text-align: right;\">\n",
       "      <th></th>\n",
       "      <th>UserID</th>\n",
       "      <th>Item1</th>\n",
       "      <th>Item2</th>\n",
       "    </tr>\n",
       "  </thead>\n",
       "  <tbody>\n",
       "    <tr>\n",
       "      <th>0</th>\n",
       "      <td>1963</td>\n",
       "      <td>987</td>\n",
       "      <td>1436</td>\n",
       "    </tr>\n",
       "    <tr>\n",
       "      <th>1</th>\n",
       "      <td>5951</td>\n",
       "      <td>1080</td>\n",
       "      <td>872</td>\n",
       "    </tr>\n",
       "    <tr>\n",
       "      <th>2</th>\n",
       "      <td>1254</td>\n",
       "      <td>90</td>\n",
       "      <td>192</td>\n",
       "    </tr>\n",
       "    <tr>\n",
       "      <th>3</th>\n",
       "      <td>2738</td>\n",
       "      <td>3003</td>\n",
       "      <td>1945</td>\n",
       "    </tr>\n",
       "    <tr>\n",
       "      <th>4</th>\n",
       "      <td>3527</td>\n",
       "      <td>351</td>\n",
       "      <td>2744</td>\n",
       "    </tr>\n",
       "  </tbody>\n",
       "</table>\n",
       "</div>"
      ],
      "text/plain": [
       "   UserID  Item1  Item2\n",
       "0    1963    987   1436\n",
       "1    5951   1080    872\n",
       "2    1254     90    192\n",
       "3    2738   3003   1945\n",
       "4    3527    351   2744"
      ]
     },
     "execution_count": 7,
     "metadata": {},
     "output_type": "execute_result"
    }
   ],
   "source": [
    "random_test.head()"
   ]
  },
  {
   "cell_type": "code",
   "execution_count": 8,
   "metadata": {},
   "outputs": [
    {
     "data": {
      "text/html": [
       "<div>\n",
       "<style scoped>\n",
       "    .dataframe tbody tr th:only-of-type {\n",
       "        vertical-align: middle;\n",
       "    }\n",
       "\n",
       "    .dataframe tbody tr th {\n",
       "        vertical-align: top;\n",
       "    }\n",
       "\n",
       "    .dataframe thead th {\n",
       "        text-align: right;\n",
       "    }\n",
       "</style>\n",
       "<table border=\"1\" class=\"dataframe\">\n",
       "  <thead>\n",
       "    <tr style=\"text-align: right;\">\n",
       "      <th></th>\n",
       "      <th>UserID</th>\n",
       "      <th>Item1</th>\n",
       "      <th>Item2</th>\n",
       "    </tr>\n",
       "  </thead>\n",
       "  <tbody>\n",
       "    <tr>\n",
       "      <th>count</th>\n",
       "      <td>6040.000000</td>\n",
       "      <td>6040.000000</td>\n",
       "      <td>6040.000000</td>\n",
       "    </tr>\n",
       "    <tr>\n",
       "      <th>mean</th>\n",
       "      <td>3020.500000</td>\n",
       "      <td>1788.350497</td>\n",
       "      <td>1789.523013</td>\n",
       "    </tr>\n",
       "    <tr>\n",
       "      <th>std</th>\n",
       "      <td>1743.742145</td>\n",
       "      <td>1099.064304</td>\n",
       "      <td>1089.792969</td>\n",
       "    </tr>\n",
       "    <tr>\n",
       "      <th>min</th>\n",
       "      <td>1.000000</td>\n",
       "      <td>1.000000</td>\n",
       "      <td>1.000000</td>\n",
       "    </tr>\n",
       "    <tr>\n",
       "      <th>25%</th>\n",
       "      <td>1510.750000</td>\n",
       "      <td>782.000000</td>\n",
       "      <td>814.000000</td>\n",
       "    </tr>\n",
       "    <tr>\n",
       "      <th>50%</th>\n",
       "      <td>3020.500000</td>\n",
       "      <td>1733.500000</td>\n",
       "      <td>1707.000000</td>\n",
       "    </tr>\n",
       "    <tr>\n",
       "      <th>75%</th>\n",
       "      <td>4530.250000</td>\n",
       "      <td>2754.750000</td>\n",
       "      <td>2744.000000</td>\n",
       "    </tr>\n",
       "    <tr>\n",
       "      <th>max</th>\n",
       "      <td>6040.000000</td>\n",
       "      <td>3705.000000</td>\n",
       "      <td>3706.000000</td>\n",
       "    </tr>\n",
       "  </tbody>\n",
       "</table>\n",
       "</div>"
      ],
      "text/plain": [
       "            UserID        Item1        Item2\n",
       "count  6040.000000  6040.000000  6040.000000\n",
       "mean   3020.500000  1788.350497  1789.523013\n",
       "std    1743.742145  1099.064304  1089.792969\n",
       "min       1.000000     1.000000     1.000000\n",
       "25%    1510.750000   782.000000   814.000000\n",
       "50%    3020.500000  1733.500000  1707.000000\n",
       "75%    4530.250000  2754.750000  2744.000000\n",
       "max    6040.000000  3705.000000  3706.000000"
      ]
     },
     "execution_count": 8,
     "metadata": {},
     "output_type": "execute_result"
    }
   ],
   "source": [
    "popularity_test=pd.read_csv(\"PopularityTest.csv\")\n",
    "popularity_test.describe()"
   ]
  },
  {
   "cell_type": "code",
   "execution_count": 9,
   "metadata": {},
   "outputs": [
    {
     "data": {
      "text/html": [
       "<div>\n",
       "<style scoped>\n",
       "    .dataframe tbody tr th:only-of-type {\n",
       "        vertical-align: middle;\n",
       "    }\n",
       "\n",
       "    .dataframe tbody tr th {\n",
       "        vertical-align: top;\n",
       "    }\n",
       "\n",
       "    .dataframe thead th {\n",
       "        text-align: right;\n",
       "    }\n",
       "</style>\n",
       "<table border=\"1\" class=\"dataframe\">\n",
       "  <thead>\n",
       "    <tr style=\"text-align: right;\">\n",
       "      <th></th>\n",
       "      <th>UserID</th>\n",
       "      <th>Item1</th>\n",
       "      <th>Item2</th>\n",
       "    </tr>\n",
       "  </thead>\n",
       "  <tbody>\n",
       "    <tr>\n",
       "      <th>0</th>\n",
       "      <td>1963</td>\n",
       "      <td>1503</td>\n",
       "      <td>2798</td>\n",
       "    </tr>\n",
       "    <tr>\n",
       "      <th>1</th>\n",
       "      <td>5951</td>\n",
       "      <td>1098</td>\n",
       "      <td>1511</td>\n",
       "    </tr>\n",
       "    <tr>\n",
       "      <th>2</th>\n",
       "      <td>1254</td>\n",
       "      <td>366</td>\n",
       "      <td>3523</td>\n",
       "    </tr>\n",
       "    <tr>\n",
       "      <th>3</th>\n",
       "      <td>2738</td>\n",
       "      <td>1546</td>\n",
       "      <td>197</td>\n",
       "    </tr>\n",
       "    <tr>\n",
       "      <th>4</th>\n",
       "      <td>3527</td>\n",
       "      <td>406</td>\n",
       "      <td>3527</td>\n",
       "    </tr>\n",
       "  </tbody>\n",
       "</table>\n",
       "</div>"
      ],
      "text/plain": [
       "   UserID  Item1  Item2\n",
       "0    1963   1503   2798\n",
       "1    5951   1098   1511\n",
       "2    1254    366   3523\n",
       "3    2738   1546    197\n",
       "4    3527    406   3527"
      ]
     },
     "execution_count": 9,
     "metadata": {},
     "output_type": "execute_result"
    }
   ],
   "source": [
    "popularity_test.head()"
   ]
  },
  {
   "cell_type": "code",
   "execution_count": 10,
   "metadata": {},
   "outputs": [
    {
     "data": {
      "text/plain": [
       "(6041, 3707)"
      ]
     },
     "execution_count": 10,
     "metadata": {},
     "output_type": "execute_result"
    }
   ],
   "source": [
    "#Creating a sparse matrix for representing the problem in a simple way\n",
    "column = np.array(train[\"ItemID\"])\n",
    "row = np.array(train[\"UserID\"])\n",
    "takes = np.array(np.ones(len(train[\"ItemID\"])))\n",
    "train_matrix=csr_matrix((takes, (row, column)), shape=(max(train[\"UserID\"])+1, max(train[\"ItemID\"])+1)).toarray()\n",
    "train_matrix.shape"
   ]
  },
  {
   "cell_type": "code",
   "execution_count": 11,
   "metadata": {},
   "outputs": [],
   "source": [
    "#validate and change!s\n",
    "def get_batch(matrix,user_ids):\n",
    "    return torch.tensor(matrix[user_ids,:]).to(torch.float32) #return batch accoarding to user id indicies"
   ]
  },
  {
   "cell_type": "code",
   "execution_count": 12,
   "metadata": {},
   "outputs": [],
   "source": [
    "#splitting into train, validation and test sets- change!\n",
    "train_users, val_users= train_test_split(range(train_matrix.shape[0]), test_size=0.2)\n",
    "x_val=train_matrix[val_users,:]\n",
    "x_train=train_matrix[train_users,:]\n",
    "x_train, x_val=torch.tensor(x_train).to(torch.float32), torch.tensor(x_val).to(torch.float32)"
   ]
  },
  {
   "cell_type": "code",
   "execution_count": 13,
   "metadata": {},
   "outputs": [],
   "source": [
    "class MakeBinarySet(Dataset):\n",
    "    def __init__(self, uids,i1s,i2s):\n",
    "        self.uids=torch.tensor(uids)\n",
    "        self.i1s=torch.tensor(i1s)\n",
    "        self.i2s=torch.tensor(i2s)\n",
    "        \n",
    "    def __getitem__(self, ind):\n",
    "        return self.uids[ind], self.i1s[ind], self.i2s[ind]\n",
    "\n",
    "    def __len__(self):\n",
    "        return self.uids.size()[0] "
   ]
  },
  {
   "cell_type": "code",
   "execution_count": 14,
   "metadata": {},
   "outputs": [],
   "source": [
    "def get_binary_predictions(data_loader,net,train_matrix,in_loop=False):\n",
    "    output_dict={}\n",
    "    diff,strengths=[],[]\n",
    "    quick_binary=[]\n",
    "    net.eval()\n",
    "    for user,i1,i2 in data_loader:\n",
    "        x=torch.tensor(train_matrix[user,:]).to(torch.float32)\n",
    "        with torch.no_grad():\n",
    "            x_recon = net(x).T\n",
    "            for user_ in range(len(user)): #for user in batch\n",
    "                #print(x_recon[i1[user_].item()])\n",
    "                if x_recon[i1[user_]][user_].item()>=x_recon[i2[user_]][user_].item(): #access user and item\n",
    "                    output_dict[(int(user[user_]),int(i1[user_]),int(i2[user_]))]=0 #assign predictions to dictionary\n",
    "                    quick_binary.append(0)\n",
    "                else:\n",
    "                    output_dict[(int(user[user_]),int(i1[user_]),int(i2[user_]))]=1 #assign predictions to dictionary\n",
    "                    quick_binary.append(1)\n",
    "                if not in_loop:\n",
    "                    diff.append(float(x_recon[i1[user_]][user_].item()-x_recon[i2[user_]][user_].item()))\n",
    "                    strengths.append(max(x_recon[i1[user_]][user_].item(),x_recon[i2[user_]][user_].item()))\n",
    "    if not in_loop:\n",
    "        return output_dict,diff,strengths\n",
    "    else:\n",
    "        return quick_binary\n",
    "a=get_binary_predictions"
   ]
  },
  {
   "cell_type": "code",
   "execution_count": 15,
   "metadata": {},
   "outputs": [],
   "source": [
    "train_matrix_c=np.copy(train_matrix)"
   ]
  },
  {
   "cell_type": "code",
   "execution_count": 16,
   "metadata": {},
   "outputs": [],
   "source": [
    "#creating a binary set for traning the model. inserting one purchased item and non-purchased item. \n",
    "def creating_binary_dataloader(ind_list):\n",
    "    global train_matrix_c\n",
    "    u_id,i1,i2=[],[],[]\n",
    "    for user in ind_list:\n",
    "        if sum(train_matrix_c[user])!=0:\n",
    "            max_val=np.random.choice([i for i, n in enumerate(train_matrix_c[user]) if n == 1],size=1)[0]\n",
    "        else:\n",
    "            max_val=0\n",
    "        min_val=np.random.choice([i for i, n in enumerate(train_matrix_c[user]) if n == 0],size=1)[0]\n",
    "        u_id.append(user)\n",
    "        i1.append(max_val)\n",
    "        i2.append(min_val)\n",
    "        train_matrix_c[user][max_val]=0   \n",
    "    data_set=MakeBinarySet(np.array(u_id),np.array(i1),np.array(i2))\n",
    "    dl = DataLoader(data_set, batch_size=512, shuffle=False)\n",
    "    return dl"
   ]
  },
  {
   "cell_type": "code",
   "execution_count": 17,
   "metadata": {},
   "outputs": [],
   "source": [
    "val_dl_metric=creating_binary_dataloader(val_users)\n",
    "train_dl_metric=creating_binary_dataloader(train_users)"
   ]
  },
  {
   "cell_type": "markdown",
   "metadata": {},
   "source": [
    "## Creating AutoEncoder network"
   ]
  },
  {
   "cell_type": "code",
   "execution_count": 18,
   "metadata": {},
   "outputs": [],
   "source": [
    "class Autoencoder(torch.nn.Module):\n",
    "    def __init__(self,input_dimension):\n",
    "        super().__init__()\n",
    "          \n",
    "        # Building an linear encoder with Linear\n",
    "        # layer followed by Relu activation function\n",
    "        # 784 ==> 9\n",
    "        self.encoder = torch.nn.Sequential(\n",
    "            torch.nn.Linear(input_dimension, 128),\n",
    "            torch.nn.ReLU(),\n",
    "            torch.nn.Linear(128, 64),\n",
    "            torch.nn.ReLU(),\n",
    "            torch.nn.Linear(64, 36),\n",
    "            torch.nn.ReLU(),\n",
    "            torch.nn.Linear(36, 18),\n",
    "            torch.nn.ReLU(),\n",
    "            torch.nn.Linear(18, 9),\n",
    "            torch.nn.Dropout(p=0.5)\n",
    "        )\n",
    "        self.decoder = torch.nn.Sequential(\n",
    "            torch.nn.Linear(9, 18),\n",
    "            torch.nn.ReLU(),\n",
    "            torch.nn.Linear(18, 36),\n",
    "            torch.nn.ReLU(),\n",
    "            torch.nn.Linear(36, 64),\n",
    "            torch.nn.ReLU(),\n",
    "            torch.nn.Linear(64, 128),\n",
    "            torch.nn.ReLU(),\n",
    "            torch.nn.Linear(128, input_dimension),\n",
    "            torch.nn.Sigmoid()\n",
    "        )\n",
    "  \n",
    "    def forward(self, x):\n",
    "        encoded = self.encoder(x)\n",
    "        decoded = self.decoder(encoded)\n",
    "        return decoded\n",
    "net=Autoencoder(train_matrix.shape[1])"
   ]
  },
  {
   "cell_type": "code",
   "execution_count": 19,
   "metadata": {},
   "outputs": [],
   "source": [
    "class TabularDataset(Dataset):\n",
    "    \"\"\" The dataset object used to read the data\n",
    "    \"\"\"\n",
    "    def __init__(self, X):\n",
    "        self.X = torch.tensor(X).to(torch.float32)\n",
    "        \n",
    "    def __getitem__(self, ind):\n",
    "        user = self.X[ind, :]\n",
    "        return user  \n",
    "\n",
    "    def __len__(self):\n",
    "        return self.X.shape[0] "
   ]
  },
  {
   "cell_type": "code",
   "execution_count": 20,
   "metadata": {},
   "outputs": [
    {
     "name": "stderr",
     "output_type": "stream",
     "text": [
      "C:\\Users\\gilad\\Anaconda3\\lib\\site-packages\\ipykernel_launcher.py:5: UserWarning: To copy construct from a tensor, it is recommended to use sourceTensor.clone().detach() or sourceTensor.clone().detach().requires_grad_(True), rather than torch.tensor(sourceTensor).\n",
      "  \"\"\"\n"
     ]
    }
   ],
   "source": [
    "train_ds=TabularDataset(x_train)\n",
    "val_ds=TabularDataset(x_val)\n",
    "\n",
    "dataloader_train = DataLoader(train_ds, batch_size=16, shuffle=True)\n",
    "dataloader_val = DataLoader(val_ds,batch_size=16 , shuffle=True)"
   ]
  },
  {
   "cell_type": "markdown",
   "metadata": {},
   "source": [
    "### Training the model "
   ]
  },
  {
   "cell_type": "code",
   "execution_count": 21,
   "metadata": {},
   "outputs": [],
   "source": [
    "def infer(net, dataloader_loss, train_metric_dl,val_metric_dl,criterion):\n",
    "    net.eval()\n",
    "    running_loss = 0 \n",
    "    test_set_answ=get_binary_predictions(val_metric_dl,net,train_matrix_c,in_loop=True)\n",
    "    predictions=1-np.array(test_set_answ) #becuase in our case 0 is positive, unlike sci-kit learn, which expects 1.\n",
    "    recall_val=recall_score(np.ones((len(predictions),)), predictions)\n",
    "    \n",
    "    test_set_answ=get_binary_predictions(train_metric_dl,net,train_matrix_c,in_loop=True)\n",
    "    predictions=1-np.array(test_set_answ) #becuase in our case 0 is positive, unlike sci-kit learn, which expects 1.\n",
    "    recall_train=recall_score(np.ones((len(predictions),)), predictions)\n",
    "    #print(\"Recall:\", np.round(recall,5))\n",
    "    \n",
    "    for x in dataloader_loss:\n",
    "        with torch.no_grad():\n",
    "            x_recon = net(x)\n",
    "            loss = criterion(x_recon, x)\n",
    "            loss=sum(loss)/x.size()[0] #in order to get avg cosine sim of the batch.\n",
    "            running_loss +=  1-(loss.item()) #because we want to minimize\n",
    "    return running_loss / len(dataloader_loss) , recall_val, recall_train\n",
    "\n",
    "def training_loop(net=None,tr_dataloader=None,val_dataloader=None,train_metric_dl=None,val_metric_dl=None,criterion_func1=None,num_epochs=50, optimizer_func=optim.Adam,lamda=0.0,lr=0.001):\n",
    "    criterion = criterion_func1()\n",
    "    optimizer = optimizer_func(net.parameters(), lr=lr,weight_decay=lamda)\n",
    "    tr_loss, val_loss, train_recall, val_recall = [None] * num_epochs, [None] * num_epochs, [None] * num_epochs, [None] * num_epochs\n",
    "    for epoch in range(num_epochs):\n",
    "        net.train()\n",
    "        running_tr_loss = 0\n",
    "        for x in tqdm(tr_dataloader):\n",
    "            optimizer.zero_grad()\n",
    "            x_recon = net(x) #forward pass\n",
    "            recon_loss = criterion(x_recon, x)\n",
    "            recon_loss=sum(recon_loss)/x.size()[0] #in order to get avg cosine sim of the batch\n",
    "            loss = 1-recon_loss  #because we want to minimize\n",
    "            loss.backward()\n",
    "            optimizer.step()\n",
    "            running_tr_loss += loss\n",
    "        tr_loss[epoch] = running_tr_loss.item() / len(tr_dataloader)\n",
    "        if val_dataloader and val_metric_dl:\n",
    "            val_loss[epoch],val_recall[epoch],train_recall[epoch] = infer(net, val_dataloader,train_metric_dl,val_metric_dl, criterion) \n",
    "    if val_dataloader:\n",
    "        return tr_loss,val_loss,val_recall,train_recall\n",
    "    return tr_loss"
   ]
  },
  {
   "cell_type": "code",
   "execution_count": 22,
   "metadata": {
    "scrolled": true
   },
   "outputs": [
    {
     "name": "stderr",
     "output_type": "stream",
     "text": [
      "100%|████████████████████████████████████████████████████████████████████████████████| 302/302 [00:05<00:00, 59.36it/s]\n",
      "100%|████████████████████████████████████████████████████████████████████████████████| 302/302 [00:05<00:00, 52.62it/s]\n",
      "100%|████████████████████████████████████████████████████████████████████████████████| 302/302 [00:05<00:00, 57.51it/s]\n",
      "100%|████████████████████████████████████████████████████████████████████████████████| 302/302 [00:05<00:00, 55.69it/s]\n",
      "100%|████████████████████████████████████████████████████████████████████████████████| 302/302 [00:05<00:00, 51.40it/s]\n",
      "100%|████████████████████████████████████████████████████████████████████████████████| 302/302 [00:05<00:00, 50.88it/s]\n",
      "100%|████████████████████████████████████████████████████████████████████████████████| 302/302 [00:05<00:00, 51.32it/s]\n",
      "100%|████████████████████████████████████████████████████████████████████████████████| 302/302 [00:06<00:00, 47.13it/s]\n",
      "100%|████████████████████████████████████████████████████████████████████████████████| 302/302 [00:05<00:00, 55.10it/s]\n",
      "100%|████████████████████████████████████████████████████████████████████████████████| 302/302 [00:05<00:00, 46.89it/s]\n",
      "100%|████████████████████████████████████████████████████████████████████████████████| 302/302 [00:05<00:00, 52.17it/s]\n",
      "100%|████████████████████████████████████████████████████████████████████████████████| 302/302 [00:05<00:00, 54.76it/s]\n",
      "100%|████████████████████████████████████████████████████████████████████████████████| 302/302 [00:05<00:00, 56.26it/s]\n",
      "100%|████████████████████████████████████████████████████████████████████████████████| 302/302 [00:05<00:00, 55.94it/s]\n",
      "100%|████████████████████████████████████████████████████████████████████████████████| 302/302 [00:05<00:00, 56.10it/s]\n",
      "100%|████████████████████████████████████████████████████████████████████████████████| 302/302 [00:05<00:00, 55.03it/s]\n",
      "100%|████████████████████████████████████████████████████████████████████████████████| 302/302 [00:05<00:00, 55.68it/s]\n",
      "100%|████████████████████████████████████████████████████████████████████████████████| 302/302 [00:05<00:00, 56.22it/s]\n",
      "100%|████████████████████████████████████████████████████████████████████████████████| 302/302 [00:05<00:00, 56.07it/s]\n",
      "100%|████████████████████████████████████████████████████████████████████████████████| 302/302 [00:05<00:00, 55.42it/s]\n",
      "100%|████████████████████████████████████████████████████████████████████████████████| 302/302 [00:05<00:00, 52.86it/s]\n",
      "100%|████████████████████████████████████████████████████████████████████████████████| 302/302 [00:06<00:00, 46.67it/s]\n",
      "100%|████████████████████████████████████████████████████████████████████████████████| 302/302 [00:06<00:00, 48.12it/s]\n",
      "100%|████████████████████████████████████████████████████████████████████████████████| 302/302 [00:05<00:00, 55.06it/s]\n",
      "100%|████████████████████████████████████████████████████████████████████████████████| 302/302 [00:05<00:00, 52.45it/s]\n",
      "100%|████████████████████████████████████████████████████████████████████████████████| 302/302 [00:05<00:00, 51.81it/s]\n",
      "100%|████████████████████████████████████████████████████████████████████████████████| 302/302 [00:05<00:00, 50.99it/s]\n",
      "100%|████████████████████████████████████████████████████████████████████████████████| 302/302 [00:05<00:00, 52.86it/s]\n",
      "100%|████████████████████████████████████████████████████████████████████████████████| 302/302 [00:05<00:00, 56.21it/s]\n",
      "100%|████████████████████████████████████████████████████████████████████████████████| 302/302 [00:05<00:00, 52.00it/s]\n",
      "100%|████████████████████████████████████████████████████████████████████████████████| 302/302 [00:05<00:00, 53.22it/s]\n",
      "100%|████████████████████████████████████████████████████████████████████████████████| 302/302 [00:05<00:00, 54.40it/s]\n",
      "100%|████████████████████████████████████████████████████████████████████████████████| 302/302 [00:05<00:00, 55.03it/s]\n",
      "100%|████████████████████████████████████████████████████████████████████████████████| 302/302 [00:05<00:00, 54.48it/s]\n",
      "100%|████████████████████████████████████████████████████████████████████████████████| 302/302 [00:05<00:00, 54.78it/s]\n",
      "100%|████████████████████████████████████████████████████████████████████████████████| 302/302 [00:05<00:00, 54.32it/s]\n",
      "100%|████████████████████████████████████████████████████████████████████████████████| 302/302 [00:05<00:00, 55.61it/s]\n",
      "100%|████████████████████████████████████████████████████████████████████████████████| 302/302 [00:05<00:00, 54.91it/s]\n",
      "100%|████████████████████████████████████████████████████████████████████████████████| 302/302 [00:05<00:00, 52.52it/s]\n",
      "100%|████████████████████████████████████████████████████████████████████████████████| 302/302 [00:06<00:00, 43.27it/s]\n",
      "100%|████████████████████████████████████████████████████████████████████████████████| 302/302 [00:06<00:00, 46.89it/s]\n",
      "100%|████████████████████████████████████████████████████████████████████████████████| 302/302 [00:06<00:00, 43.22it/s]\n",
      "100%|████████████████████████████████████████████████████████████████████████████████| 302/302 [00:06<00:00, 47.88it/s]\n",
      "100%|████████████████████████████████████████████████████████████████████████████████| 302/302 [00:06<00:00, 49.18it/s]\n",
      "100%|████████████████████████████████████████████████████████████████████████████████| 302/302 [00:05<00:00, 51.99it/s]\n",
      "100%|████████████████████████████████████████████████████████████████████████████████| 302/302 [00:05<00:00, 51.31it/s]\n",
      "100%|████████████████████████████████████████████████████████████████████████████████| 302/302 [00:06<00:00, 46.33it/s]\n",
      "100%|████████████████████████████████████████████████████████████████████████████████| 302/302 [00:05<00:00, 54.01it/s]\n",
      "100%|████████████████████████████████████████████████████████████████████████████████| 302/302 [00:07<00:00, 41.87it/s]\n",
      "100%|████████████████████████████████████████████████████████████████████████████████| 302/302 [00:06<00:00, 46.32it/s]\n",
      "100%|████████████████████████████████████████████████████████████████████████████████| 302/302 [00:06<00:00, 48.46it/s]\n",
      "100%|████████████████████████████████████████████████████████████████████████████████| 302/302 [00:06<00:00, 48.83it/s]\n",
      "100%|████████████████████████████████████████████████████████████████████████████████| 302/302 [00:06<00:00, 48.64it/s]\n",
      "100%|████████████████████████████████████████████████████████████████████████████████| 302/302 [00:06<00:00, 46.10it/s]\n",
      "100%|████████████████████████████████████████████████████████████████████████████████| 302/302 [00:05<00:00, 51.43it/s]\n",
      "100%|████████████████████████████████████████████████████████████████████████████████| 302/302 [00:06<00:00, 47.49it/s]\n",
      "100%|████████████████████████████████████████████████████████████████████████████████| 302/302 [00:05<00:00, 51.35it/s]\n",
      "100%|████████████████████████████████████████████████████████████████████████████████| 302/302 [00:05<00:00, 52.24it/s]\n",
      "100%|████████████████████████████████████████████████████████████████████████████████| 302/302 [00:06<00:00, 47.91it/s]\n",
      "100%|████████████████████████████████████████████████████████████████████████████████| 302/302 [00:05<00:00, 50.97it/s]\n",
      "100%|████████████████████████████████████████████████████████████████████████████████| 302/302 [00:05<00:00, 54.81it/s]\n",
      "100%|████████████████████████████████████████████████████████████████████████████████| 302/302 [00:05<00:00, 52.52it/s]\n",
      "100%|████████████████████████████████████████████████████████████████████████████████| 302/302 [00:05<00:00, 55.46it/s]\n",
      "100%|████████████████████████████████████████████████████████████████████████████████| 302/302 [00:05<00:00, 53.61it/s]\n",
      "100%|████████████████████████████████████████████████████████████████████████████████| 302/302 [00:05<00:00, 50.36it/s]\n",
      "100%|████████████████████████████████████████████████████████████████████████████████| 302/302 [00:05<00:00, 54.82it/s]\n",
      "100%|████████████████████████████████████████████████████████████████████████████████| 302/302 [00:05<00:00, 57.08it/s]\n",
      "100%|████████████████████████████████████████████████████████████████████████████████| 302/302 [00:05<00:00, 56.88it/s]\n"
     ]
    },
    {
     "name": "stderr",
     "output_type": "stream",
     "text": [
      "100%|████████████████████████████████████████████████████████████████████████████████| 302/302 [00:05<00:00, 57.53it/s]\n",
      "100%|████████████████████████████████████████████████████████████████████████████████| 302/302 [00:05<00:00, 57.22it/s]\n",
      "100%|████████████████████████████████████████████████████████████████████████████████| 302/302 [00:05<00:00, 57.28it/s]\n",
      "100%|████████████████████████████████████████████████████████████████████████████████| 302/302 [00:05<00:00, 57.60it/s]\n",
      "100%|████████████████████████████████████████████████████████████████████████████████| 302/302 [00:05<00:00, 57.66it/s]\n",
      "100%|████████████████████████████████████████████████████████████████████████████████| 302/302 [00:05<00:00, 57.47it/s]\n",
      "100%|████████████████████████████████████████████████████████████████████████████████| 302/302 [00:05<00:00, 57.17it/s]\n",
      "100%|████████████████████████████████████████████████████████████████████████████████| 302/302 [00:05<00:00, 57.60it/s]\n",
      "100%|████████████████████████████████████████████████████████████████████████████████| 302/302 [00:05<00:00, 57.51it/s]\n",
      "100%|████████████████████████████████████████████████████████████████████████████████| 302/302 [00:05<00:00, 55.23it/s]\n",
      "100%|████████████████████████████████████████████████████████████████████████████████| 302/302 [00:05<00:00, 57.57it/s]\n",
      "100%|████████████████████████████████████████████████████████████████████████████████| 302/302 [00:05<00:00, 57.23it/s]\n",
      "100%|████████████████████████████████████████████████████████████████████████████████| 302/302 [00:05<00:00, 58.14it/s]\n",
      "100%|████████████████████████████████████████████████████████████████████████████████| 302/302 [00:05<00:00, 58.20it/s]\n",
      "100%|████████████████████████████████████████████████████████████████████████████████| 302/302 [00:05<00:00, 56.96it/s]\n",
      "100%|████████████████████████████████████████████████████████████████████████████████| 302/302 [00:05<00:00, 57.02it/s]\n",
      "100%|████████████████████████████████████████████████████████████████████████████████| 302/302 [00:05<00:00, 56.35it/s]\n",
      "100%|████████████████████████████████████████████████████████████████████████████████| 302/302 [00:05<00:00, 56.80it/s]\n",
      "100%|████████████████████████████████████████████████████████████████████████████████| 302/302 [00:05<00:00, 56.18it/s]\n",
      "100%|████████████████████████████████████████████████████████████████████████████████| 302/302 [00:05<00:00, 57.05it/s]\n",
      "100%|████████████████████████████████████████████████████████████████████████████████| 302/302 [00:05<00:00, 57.43it/s]\n",
      "100%|████████████████████████████████████████████████████████████████████████████████| 302/302 [00:05<00:00, 57.31it/s]\n",
      "100%|████████████████████████████████████████████████████████████████████████████████| 302/302 [00:05<00:00, 57.39it/s]\n",
      "100%|████████████████████████████████████████████████████████████████████████████████| 302/302 [00:05<00:00, 57.46it/s]\n",
      "100%|████████████████████████████████████████████████████████████████████████████████| 302/302 [00:05<00:00, 57.58it/s]\n",
      "100%|████████████████████████████████████████████████████████████████████████████████| 302/302 [00:05<00:00, 57.40it/s]\n",
      "100%|████████████████████████████████████████████████████████████████████████████████| 302/302 [00:05<00:00, 56.91it/s]\n",
      "100%|████████████████████████████████████████████████████████████████████████████████| 302/302 [00:05<00:00, 56.94it/s]\n",
      "100%|████████████████████████████████████████████████████████████████████████████████| 302/302 [00:05<00:00, 57.38it/s]\n",
      "100%|████████████████████████████████████████████████████████████████████████████████| 302/302 [00:05<00:00, 57.00it/s]\n",
      "100%|████████████████████████████████████████████████████████████████████████████████| 302/302 [00:05<00:00, 57.58it/s]\n",
      "100%|████████████████████████████████████████████████████████████████████████████████| 302/302 [00:05<00:00, 57.05it/s]\n",
      "100%|████████████████████████████████████████████████████████████████████████████████| 302/302 [00:05<00:00, 58.26it/s]\n",
      "100%|████████████████████████████████████████████████████████████████████████████████| 302/302 [00:05<00:00, 57.95it/s]\n",
      "100%|████████████████████████████████████████████████████████████████████████████████| 302/302 [00:05<00:00, 57.25it/s]\n",
      "100%|████████████████████████████████████████████████████████████████████████████████| 302/302 [00:05<00:00, 57.40it/s]\n",
      "100%|████████████████████████████████████████████████████████████████████████████████| 302/302 [00:05<00:00, 56.73it/s]\n",
      "100%|████████████████████████████████████████████████████████████████████████████████| 302/302 [00:05<00:00, 56.92it/s]\n",
      "100%|████████████████████████████████████████████████████████████████████████████████| 302/302 [00:05<00:00, 54.62it/s]\n",
      "100%|████████████████████████████████████████████████████████████████████████████████| 302/302 [00:05<00:00, 58.29it/s]\n",
      "100%|████████████████████████████████████████████████████████████████████████████████| 302/302 [00:05<00:00, 57.61it/s]\n",
      "100%|████████████████████████████████████████████████████████████████████████████████| 302/302 [00:05<00:00, 57.39it/s]\n",
      "100%|████████████████████████████████████████████████████████████████████████████████| 302/302 [00:05<00:00, 56.85it/s]\n",
      "100%|████████████████████████████████████████████████████████████████████████████████| 302/302 [00:05<00:00, 56.85it/s]\n",
      "100%|████████████████████████████████████████████████████████████████████████████████| 302/302 [00:05<00:00, 57.00it/s]\n",
      "100%|████████████████████████████████████████████████████████████████████████████████| 302/302 [00:05<00:00, 56.13it/s]\n",
      "100%|████████████████████████████████████████████████████████████████████████████████| 302/302 [00:05<00:00, 52.02it/s]\n",
      "100%|████████████████████████████████████████████████████████████████████████████████| 302/302 [00:05<00:00, 57.64it/s]\n",
      "100%|████████████████████████████████████████████████████████████████████████████████| 302/302 [00:05<00:00, 56.75it/s]\n",
      "100%|████████████████████████████████████████████████████████████████████████████████| 302/302 [00:05<00:00, 56.33it/s]\n",
      "100%|████████████████████████████████████████████████████████████████████████████████| 302/302 [00:05<00:00, 56.51it/s]\n",
      "100%|████████████████████████████████████████████████████████████████████████████████| 302/302 [00:05<00:00, 55.71it/s]\n",
      "100%|████████████████████████████████████████████████████████████████████████████████| 302/302 [00:05<00:00, 57.17it/s]\n",
      "100%|████████████████████████████████████████████████████████████████████████████████| 302/302 [00:05<00:00, 57.26it/s]\n",
      "100%|████████████████████████████████████████████████████████████████████████████████| 302/302 [00:05<00:00, 58.23it/s]\n",
      "100%|████████████████████████████████████████████████████████████████████████████████| 302/302 [00:05<00:00, 57.25it/s]\n",
      "100%|████████████████████████████████████████████████████████████████████████████████| 302/302 [00:05<00:00, 57.22it/s]\n",
      "100%|████████████████████████████████████████████████████████████████████████████████| 302/302 [00:05<00:00, 57.06it/s]\n",
      "100%|████████████████████████████████████████████████████████████████████████████████| 302/302 [00:05<00:00, 57.62it/s]\n",
      "100%|████████████████████████████████████████████████████████████████████████████████| 302/302 [00:05<00:00, 57.30it/s]\n",
      "100%|████████████████████████████████████████████████████████████████████████████████| 302/302 [00:05<00:00, 57.47it/s]\n",
      "100%|████████████████████████████████████████████████████████████████████████████████| 302/302 [00:05<00:00, 57.69it/s]\n",
      "100%|████████████████████████████████████████████████████████████████████████████████| 302/302 [00:05<00:00, 57.58it/s]\n",
      "100%|████████████████████████████████████████████████████████████████████████████████| 302/302 [00:05<00:00, 56.29it/s]\n",
      "100%|████████████████████████████████████████████████████████████████████████████████| 302/302 [00:05<00:00, 56.72it/s]\n",
      "100%|████████████████████████████████████████████████████████████████████████████████| 302/302 [00:05<00:00, 56.72it/s]\n",
      "100%|████████████████████████████████████████████████████████████████████████████████| 302/302 [00:05<00:00, 55.81it/s]\n",
      "100%|████████████████████████████████████████████████████████████████████████████████| 302/302 [00:05<00:00, 56.44it/s]\n"
     ]
    },
    {
     "name": "stderr",
     "output_type": "stream",
     "text": [
      "100%|████████████████████████████████████████████████████████████████████████████████| 302/302 [00:05<00:00, 56.84it/s]\n",
      "100%|████████████████████████████████████████████████████████████████████████████████| 302/302 [00:05<00:00, 56.78it/s]\n",
      "100%|████████████████████████████████████████████████████████████████████████████████| 302/302 [00:05<00:00, 55.87it/s]\n",
      "100%|████████████████████████████████████████████████████████████████████████████████| 302/302 [00:05<00:00, 56.54it/s]\n",
      "100%|████████████████████████████████████████████████████████████████████████████████| 302/302 [00:05<00:00, 56.39it/s]\n",
      "100%|████████████████████████████████████████████████████████████████████████████████| 302/302 [00:05<00:00, 56.56it/s]\n",
      "100%|████████████████████████████████████████████████████████████████████████████████| 302/302 [00:05<00:00, 56.28it/s]\n",
      "100%|████████████████████████████████████████████████████████████████████████████████| 302/302 [00:05<00:00, 56.00it/s]\n",
      "100%|████████████████████████████████████████████████████████████████████████████████| 302/302 [00:05<00:00, 55.23it/s]\n",
      "100%|████████████████████████████████████████████████████████████████████████████████| 302/302 [00:05<00:00, 54.82it/s]\n",
      "100%|████████████████████████████████████████████████████████████████████████████████| 302/302 [00:05<00:00, 54.43it/s]\n",
      "100%|████████████████████████████████████████████████████████████████████████████████| 302/302 [00:05<00:00, 56.47it/s]\n",
      "100%|████████████████████████████████████████████████████████████████████████████████| 302/302 [00:05<00:00, 55.27it/s]\n",
      "100%|████████████████████████████████████████████████████████████████████████████████| 302/302 [00:05<00:00, 54.47it/s]\n",
      "100%|████████████████████████████████████████████████████████████████████████████████| 302/302 [00:05<00:00, 55.23it/s]\n",
      "100%|████████████████████████████████████████████████████████████████████████████████| 302/302 [00:05<00:00, 54.87it/s]\n",
      "100%|████████████████████████████████████████████████████████████████████████████████| 302/302 [00:05<00:00, 54.86it/s]\n",
      "100%|████████████████████████████████████████████████████████████████████████████████| 302/302 [00:05<00:00, 55.15it/s]\n",
      "100%|████████████████████████████████████████████████████████████████████████████████| 302/302 [00:05<00:00, 55.13it/s]\n",
      "100%|████████████████████████████████████████████████████████████████████████████████| 302/302 [00:05<00:00, 55.44it/s]\n",
      "100%|████████████████████████████████████████████████████████████████████████████████| 302/302 [00:05<00:00, 56.29it/s]\n",
      "100%|████████████████████████████████████████████████████████████████████████████████| 302/302 [00:05<00:00, 55.44it/s]\n",
      "100%|████████████████████████████████████████████████████████████████████████████████| 302/302 [00:05<00:00, 53.65it/s]\n",
      "100%|████████████████████████████████████████████████████████████████████████████████| 302/302 [00:05<00:00, 53.60it/s]\n",
      "100%|████████████████████████████████████████████████████████████████████████████████| 302/302 [00:05<00:00, 54.89it/s]\n",
      "100%|████████████████████████████████████████████████████████████████████████████████| 302/302 [00:05<00:00, 55.11it/s]\n",
      "100%|████████████████████████████████████████████████████████████████████████████████| 302/302 [00:05<00:00, 54.75it/s]\n",
      "100%|████████████████████████████████████████████████████████████████████████████████| 302/302 [00:05<00:00, 53.59it/s]\n",
      "100%|████████████████████████████████████████████████████████████████████████████████| 302/302 [00:05<00:00, 54.69it/s]\n",
      "100%|████████████████████████████████████████████████████████████████████████████████| 302/302 [00:05<00:00, 54.74it/s]\n",
      "100%|████████████████████████████████████████████████████████████████████████████████| 302/302 [00:05<00:00, 55.77it/s]\n",
      "100%|████████████████████████████████████████████████████████████████████████████████| 302/302 [00:05<00:00, 54.86it/s]\n",
      "100%|████████████████████████████████████████████████████████████████████████████████| 302/302 [00:05<00:00, 53.66it/s]\n",
      "100%|████████████████████████████████████████████████████████████████████████████████| 302/302 [00:05<00:00, 54.66it/s]\n",
      "100%|████████████████████████████████████████████████████████████████████████████████| 302/302 [00:05<00:00, 54.78it/s]\n",
      "100%|████████████████████████████████████████████████████████████████████████████████| 302/302 [00:05<00:00, 55.04it/s]\n",
      "100%|████████████████████████████████████████████████████████████████████████████████| 302/302 [00:05<00:00, 54.89it/s]\n",
      "100%|████████████████████████████████████████████████████████████████████████████████| 302/302 [00:05<00:00, 54.00it/s]\n",
      "100%|████████████████████████████████████████████████████████████████████████████████| 302/302 [00:05<00:00, 54.82it/s]\n",
      "100%|████████████████████████████████████████████████████████████████████████████████| 302/302 [00:05<00:00, 54.27it/s]\n",
      "100%|████████████████████████████████████████████████████████████████████████████████| 302/302 [00:05<00:00, 53.87it/s]\n",
      "100%|████████████████████████████████████████████████████████████████████████████████| 302/302 [00:05<00:00, 53.96it/s]\n",
      "100%|████████████████████████████████████████████████████████████████████████████████| 302/302 [00:05<00:00, 53.84it/s]\n",
      "100%|████████████████████████████████████████████████████████████████████████████████| 302/302 [00:05<00:00, 53.68it/s]\n",
      "100%|████████████████████████████████████████████████████████████████████████████████| 302/302 [00:05<00:00, 53.55it/s]\n",
      "100%|████████████████████████████████████████████████████████████████████████████████| 302/302 [00:05<00:00, 53.39it/s]\n",
      "100%|████████████████████████████████████████████████████████████████████████████████| 302/302 [00:05<00:00, 51.34it/s]\n",
      "100%|████████████████████████████████████████████████████████████████████████████████| 302/302 [00:06<00:00, 47.97it/s]\n",
      "100%|████████████████████████████████████████████████████████████████████████████████| 302/302 [00:05<00:00, 54.19it/s]\n",
      "100%|████████████████████████████████████████████████████████████████████████████████| 302/302 [00:05<00:00, 52.73it/s]\n",
      "100%|████████████████████████████████████████████████████████████████████████████████| 302/302 [00:06<00:00, 48.48it/s]\n",
      "100%|████████████████████████████████████████████████████████████████████████████████| 302/302 [00:07<00:00, 41.13it/s]\n",
      "100%|████████████████████████████████████████████████████████████████████████████████| 302/302 [00:06<00:00, 44.57it/s]\n",
      "100%|████████████████████████████████████████████████████████████████████████████████| 302/302 [00:06<00:00, 43.30it/s]\n",
      "100%|████████████████████████████████████████████████████████████████████████████████| 302/302 [00:06<00:00, 55.10it/s]\n",
      "100%|████████████████████████████████████████████████████████████████████████████████| 302/302 [00:07<00:00, 44.54it/s]\n",
      "100%|████████████████████████████████████████████████████████████████████████████████| 302/302 [00:06<00:00, 44.80it/s]\n",
      "100%|████████████████████████████████████████████████████████████████████████████████| 302/302 [00:06<00:00, 45.89it/s]\n",
      "100%|████████████████████████████████████████████████████████████████████████████████| 302/302 [00:07<00:00, 41.59it/s]\n",
      "100%|████████████████████████████████████████████████████████████████████████████████| 302/302 [00:06<00:00, 43.98it/s]\n",
      "100%|████████████████████████████████████████████████████████████████████████████████| 302/302 [00:06<00:00, 44.17it/s]\n",
      "100%|████████████████████████████████████████████████████████████████████████████████| 302/302 [00:06<00:00, 44.55it/s]\n",
      "100%|████████████████████████████████████████████████████████████████████████████████| 302/302 [00:06<00:00, 48.76it/s]\n",
      "100%|████████████████████████████████████████████████████████████████████████████████| 302/302 [00:06<00:00, 47.93it/s]\n",
      "100%|████████████████████████████████████████████████████████████████████████████████| 302/302 [00:06<00:00, 48.70it/s]\n",
      "100%|████████████████████████████████████████████████████████████████████████████████| 302/302 [00:06<00:00, 48.20it/s]\n",
      "100%|████████████████████████████████████████████████████████████████████████████████| 302/302 [00:06<00:00, 48.21it/s]\n",
      "100%|████████████████████████████████████████████████████████████████████████████████| 302/302 [00:06<00:00, 48.27it/s]\n"
     ]
    },
    {
     "name": "stderr",
     "output_type": "stream",
     "text": [
      "100%|████████████████████████████████████████████████████████████████████████████████| 302/302 [00:06<00:00, 46.49it/s]\n",
      "100%|████████████████████████████████████████████████████████████████████████████████| 302/302 [00:06<00:00, 50.04it/s]\n",
      "100%|████████████████████████████████████████████████████████████████████████████████| 302/302 [00:05<00:00, 51.60it/s]\n",
      "100%|████████████████████████████████████████████████████████████████████████████████| 302/302 [00:05<00:00, 51.98it/s]\n",
      "100%|████████████████████████████████████████████████████████████████████████████████| 302/302 [00:05<00:00, 50.43it/s]\n",
      "100%|████████████████████████████████████████████████████████████████████████████████| 302/302 [00:05<00:00, 52.95it/s]\n",
      "100%|████████████████████████████████████████████████████████████████████████████████| 302/302 [00:05<00:00, 50.94it/s]\n",
      "100%|████████████████████████████████████████████████████████████████████████████████| 302/302 [00:05<00:00, 52.64it/s]\n",
      "100%|████████████████████████████████████████████████████████████████████████████████| 302/302 [00:05<00:00, 51.59it/s]\n",
      "100%|████████████████████████████████████████████████████████████████████████████████| 302/302 [00:05<00:00, 52.56it/s]\n",
      "100%|████████████████████████████████████████████████████████████████████████████████| 302/302 [00:05<00:00, 50.90it/s]\n",
      "100%|████████████████████████████████████████████████████████████████████████████████| 302/302 [00:05<00:00, 53.02it/s]\n",
      "100%|████████████████████████████████████████████████████████████████████████████████| 302/302 [00:05<00:00, 52.30it/s]\n",
      "100%|████████████████████████████████████████████████████████████████████████████████| 302/302 [00:05<00:00, 52.18it/s]\n",
      "100%|████████████████████████████████████████████████████████████████████████████████| 302/302 [00:05<00:00, 52.72it/s]\n",
      "100%|████████████████████████████████████████████████████████████████████████████████| 302/302 [00:05<00:00, 53.20it/s]\n",
      "100%|████████████████████████████████████████████████████████████████████████████████| 302/302 [00:05<00:00, 54.24it/s]\n",
      "100%|████████████████████████████████████████████████████████████████████████████████| 302/302 [00:05<00:00, 54.37it/s]\n",
      "100%|████████████████████████████████████████████████████████████████████████████████| 302/302 [00:05<00:00, 53.99it/s]\n",
      "100%|████████████████████████████████████████████████████████████████████████████████| 302/302 [00:05<00:00, 52.38it/s]\n",
      "100%|████████████████████████████████████████████████████████████████████████████████| 302/302 [00:05<00:00, 53.16it/s]\n",
      "100%|████████████████████████████████████████████████████████████████████████████████| 302/302 [00:05<00:00, 52.26it/s]\n",
      "100%|████████████████████████████████████████████████████████████████████████████████| 302/302 [00:05<00:00, 53.38it/s]\n",
      "100%|████████████████████████████████████████████████████████████████████████████████| 302/302 [00:05<00:00, 51.78it/s]\n",
      "100%|████████████████████████████████████████████████████████████████████████████████| 302/302 [00:06<00:00, 49.95it/s]\n",
      "100%|████████████████████████████████████████████████████████████████████████████████| 302/302 [00:05<00:00, 54.53it/s]\n",
      "100%|████████████████████████████████████████████████████████████████████████████████| 302/302 [00:05<00:00, 52.26it/s]\n",
      "100%|████████████████████████████████████████████████████████████████████████████████| 302/302 [00:05<00:00, 52.15it/s]\n",
      "100%|████████████████████████████████████████████████████████████████████████████████| 302/302 [00:05<00:00, 52.47it/s]\n",
      "100%|████████████████████████████████████████████████████████████████████████████████| 302/302 [00:05<00:00, 52.22it/s]\n",
      "100%|████████████████████████████████████████████████████████████████████████████████| 302/302 [00:05<00:00, 51.99it/s]\n",
      "100%|████████████████████████████████████████████████████████████████████████████████| 302/302 [00:05<00:00, 50.79it/s]\n",
      "100%|████████████████████████████████████████████████████████████████████████████████| 302/302 [00:05<00:00, 50.95it/s]\n",
      "100%|████████████████████████████████████████████████████████████████████████████████| 302/302 [00:05<00:00, 52.00it/s]\n",
      "100%|████████████████████████████████████████████████████████████████████████████████| 302/302 [00:05<00:00, 52.94it/s]\n",
      "100%|████████████████████████████████████████████████████████████████████████████████| 302/302 [00:05<00:00, 52.57it/s]\n",
      "100%|████████████████████████████████████████████████████████████████████████████████| 302/302 [00:06<00:00, 49.29it/s]\n",
      "100%|████████████████████████████████████████████████████████████████████████████████| 302/302 [00:05<00:00, 54.05it/s]\n",
      "100%|████████████████████████████████████████████████████████████████████████████████| 302/302 [00:05<00:00, 55.16it/s]\n",
      "100%|████████████████████████████████████████████████████████████████████████████████| 302/302 [00:05<00:00, 55.17it/s]\n",
      "100%|████████████████████████████████████████████████████████████████████████████████| 302/302 [00:05<00:00, 54.77it/s]\n",
      "100%|████████████████████████████████████████████████████████████████████████████████| 302/302 [00:05<00:00, 55.31it/s]\n",
      "100%|████████████████████████████████████████████████████████████████████████████████| 302/302 [00:05<00:00, 54.39it/s]\n",
      "100%|████████████████████████████████████████████████████████████████████████████████| 302/302 [00:06<00:00, 49.43it/s]\n",
      "100%|████████████████████████████████████████████████████████████████████████████████| 302/302 [00:06<00:00, 47.29it/s]\n",
      "100%|████████████████████████████████████████████████████████████████████████████████| 302/302 [00:06<00:00, 46.64it/s]\n",
      "100%|████████████████████████████████████████████████████████████████████████████████| 302/302 [00:05<00:00, 52.66it/s]\n",
      "100%|████████████████████████████████████████████████████████████████████████████████| 302/302 [00:06<00:00, 50.18it/s]\n",
      "100%|████████████████████████████████████████████████████████████████████████████████| 302/302 [00:05<00:00, 50.75it/s]\n",
      "100%|████████████████████████████████████████████████████████████████████████████████| 302/302 [00:06<00:00, 49.95it/s]\n",
      "100%|████████████████████████████████████████████████████████████████████████████████| 302/302 [00:05<00:00, 52.74it/s]\n",
      "100%|████████████████████████████████████████████████████████████████████████████████| 302/302 [00:05<00:00, 52.58it/s]\n",
      "100%|████████████████████████████████████████████████████████████████████████████████| 302/302 [00:05<00:00, 51.92it/s]\n",
      "100%|████████████████████████████████████████████████████████████████████████████████| 302/302 [00:05<00:00, 52.53it/s]\n",
      "100%|████████████████████████████████████████████████████████████████████████████████| 302/302 [00:05<00:00, 52.30it/s]\n",
      "100%|████████████████████████████████████████████████████████████████████████████████| 302/302 [00:05<00:00, 52.14it/s]\n",
      "100%|████████████████████████████████████████████████████████████████████████████████| 302/302 [00:05<00:00, 52.25it/s]\n",
      "100%|████████████████████████████████████████████████████████████████████████████████| 302/302 [00:05<00:00, 52.72it/s]\n",
      "100%|████████████████████████████████████████████████████████████████████████████████| 302/302 [00:05<00:00, 51.75it/s]\n",
      "100%|████████████████████████████████████████████████████████████████████████████████| 302/302 [00:05<00:00, 52.25it/s]\n",
      "100%|████████████████████████████████████████████████████████████████████████████████| 302/302 [00:05<00:00, 52.44it/s]\n",
      "100%|████████████████████████████████████████████████████████████████████████████████| 302/302 [00:05<00:00, 51.79it/s]\n",
      "100%|████████████████████████████████████████████████████████████████████████████████| 302/302 [00:05<00:00, 52.91it/s]\n",
      "100%|████████████████████████████████████████████████████████████████████████████████| 302/302 [00:05<00:00, 52.58it/s]\n",
      "100%|████████████████████████████████████████████████████████████████████████████████| 302/302 [00:05<00:00, 52.25it/s]\n",
      "100%|████████████████████████████████████████████████████████████████████████████████| 302/302 [00:05<00:00, 52.40it/s]\n",
      "100%|████████████████████████████████████████████████████████████████████████████████| 302/302 [00:05<00:00, 52.67it/s]\n",
      "100%|████████████████████████████████████████████████████████████████████████████████| 302/302 [00:05<00:00, 52.42it/s]\n"
     ]
    },
    {
     "name": "stderr",
     "output_type": "stream",
     "text": [
      "100%|████████████████████████████████████████████████████████████████████████████████| 302/302 [00:05<00:00, 52.88it/s]\n",
      "100%|████████████████████████████████████████████████████████████████████████████████| 302/302 [00:05<00:00, 52.67it/s]\n",
      "100%|████████████████████████████████████████████████████████████████████████████████| 302/302 [00:05<00:00, 53.04it/s]\n",
      "100%|████████████████████████████████████████████████████████████████████████████████| 302/302 [00:05<00:00, 53.12it/s]\n",
      "100%|████████████████████████████████████████████████████████████████████████████████| 302/302 [00:05<00:00, 53.32it/s]\n",
      "100%|████████████████████████████████████████████████████████████████████████████████| 302/302 [00:05<00:00, 53.08it/s]\n",
      "100%|████████████████████████████████████████████████████████████████████████████████| 302/302 [00:05<00:00, 53.20it/s]\n",
      "100%|████████████████████████████████████████████████████████████████████████████████| 302/302 [00:05<00:00, 53.16it/s]\n",
      "100%|████████████████████████████████████████████████████████████████████████████████| 302/302 [00:05<00:00, 52.79it/s]\n",
      "100%|████████████████████████████████████████████████████████████████████████████████| 302/302 [00:05<00:00, 52.84it/s]\n",
      "100%|████████████████████████████████████████████████████████████████████████████████| 302/302 [00:05<00:00, 50.65it/s]\n",
      "100%|████████████████████████████████████████████████████████████████████████████████| 302/302 [00:06<00:00, 49.49it/s]\n",
      "100%|████████████████████████████████████████████████████████████████████████████████| 302/302 [00:05<00:00, 52.74it/s]\n",
      "100%|████████████████████████████████████████████████████████████████████████████████| 302/302 [00:05<00:00, 52.71it/s]\n",
      "100%|████████████████████████████████████████████████████████████████████████████████| 302/302 [00:05<00:00, 51.97it/s]\n",
      "100%|████████████████████████████████████████████████████████████████████████████████| 302/302 [00:05<00:00, 51.61it/s]\n",
      "100%|████████████████████████████████████████████████████████████████████████████████| 302/302 [00:05<00:00, 53.01it/s]\n",
      "100%|████████████████████████████████████████████████████████████████████████████████| 302/302 [00:05<00:00, 53.18it/s]\n",
      "100%|████████████████████████████████████████████████████████████████████████████████| 302/302 [00:05<00:00, 52.93it/s]\n",
      "100%|████████████████████████████████████████████████████████████████████████████████| 302/302 [00:05<00:00, 53.36it/s]\n",
      "100%|████████████████████████████████████████████████████████████████████████████████| 302/302 [00:05<00:00, 52.85it/s]\n",
      "100%|████████████████████████████████████████████████████████████████████████████████| 302/302 [00:05<00:00, 52.42it/s]\n",
      "100%|████████████████████████████████████████████████████████████████████████████████| 302/302 [00:05<00:00, 52.75it/s]\n",
      "100%|████████████████████████████████████████████████████████████████████████████████| 302/302 [00:05<00:00, 52.42it/s]\n",
      "100%|████████████████████████████████████████████████████████████████████████████████| 302/302 [00:05<00:00, 52.07it/s]\n",
      "100%|████████████████████████████████████████████████████████████████████████████████| 302/302 [00:05<00:00, 53.96it/s]\n",
      "100%|████████████████████████████████████████████████████████████████████████████████| 302/302 [00:05<00:00, 52.59it/s]\n",
      "100%|████████████████████████████████████████████████████████████████████████████████| 302/302 [00:05<00:00, 51.80it/s]\n"
     ]
    }
   ],
   "source": [
    "#checking the optimal number of epochs to train the model\n",
    "tr_loss,val_loss,val_recall,train_recall = training_loop(net,dataloader_train,dataloader_val,train_dl_metric,val_dl_metric,criterion_func1=nn.CosineSimilarity,num_epochs=300, lr=0.0001,)"
   ]
  },
  {
   "cell_type": "markdown",
   "metadata": {},
   "source": [
    "### Plotting the results "
   ]
  },
  {
   "cell_type": "code",
   "execution_count": 23,
   "metadata": {},
   "outputs": [
    {
     "data": {
      "image/png": "[encoded data removed]",
      "text/plain": [
       "<Figure size 432x288 with 1 Axes>"
      ]
     },
     "metadata": {
      "needs_background": "light"
     },
     "output_type": "display_data"
    },
    {
     "data": {
      "image/png": "[encoded data removed]",
      "text/plain": [
       "<Figure size 432x288 with 1 Axes>"
      ]
     },
     "metadata": {
      "needs_background": "light"
     },
     "output_type": "display_data"
    }
   ],
   "source": [
    "#plotting graphs to see what is the optimal number of epochs\n",
    "ax = plt.figure().gca()\n",
    "ax.xaxis.set_major_locator(MaxNLocator(integer=True))\n",
    "ax.set_ylabel('Loss')\n",
    "ax.set_xlabel('Epoch')\n",
    "ax.plot(tr_loss,c='b',label=\"train loss\")\n",
    "ax.plot(val_loss,c='r',label=\"validation loss\")\n",
    "ax.set_title('Loss (epoch) ')\n",
    "\n",
    "plt.legend()\n",
    "plt.show()\n",
    "\n",
    "ax = plt.figure().gca()\n",
    "ax.plot(train_recall,c='b',label=\"Train Sensitivity\");\n",
    "ax.xaxis.set_major_locator(MaxNLocator(integer=True))\n",
    "ax.set_title('Sensitivity (epoch) ')\n",
    "\n",
    "ax.plot(val_recall,c='r',label=\"Validation set Sensitivity\")\n",
    "\n",
    "ax.set_ylabel('Sensitivity')\n",
    "ax.set_xlabel('Epoch')\n",
    "plt.legend()\n",
    "plt.show()\n"
   ]
  },
  {
   "cell_type": "code",
   "execution_count": 24,
   "metadata": {},
   "outputs": [],
   "source": [
    "#choosing the ideal number of epochs\n",
    "num_epochs_to_train=50"
   ]
  },
  {
   "cell_type": "markdown",
   "metadata": {},
   "source": [
    "### Full training (complete dataset) "
   ]
  },
  {
   "cell_type": "code",
   "execution_count": 25,
   "metadata": {},
   "outputs": [],
   "source": [
    "#train the whole dataset and test set\n",
    "all_dataset=TabularDataset(train_matrix)\n",
    "total_dl = DataLoader(all_dataset, batch_size=16, shuffle=True)"
   ]
  },
  {
   "cell_type": "code",
   "execution_count": 26,
   "metadata": {},
   "outputs": [
    {
     "name": "stderr",
     "output_type": "stream",
     "text": [
      "100%|████████████████████████████████████████████████████████████████████████████████| 378/378 [00:06<00:00, 61.94it/s]\n",
      "100%|████████████████████████████████████████████████████████████████████████████████| 378/378 [00:06<00:00, 62.47it/s]\n",
      "100%|████████████████████████████████████████████████████████████████████████████████| 378/378 [00:06<00:00, 58.18it/s]\n",
      "100%|████████████████████████████████████████████████████████████████████████████████| 378/378 [00:06<00:00, 57.82it/s]\n",
      "100%|████████████████████████████████████████████████████████████████████████████████| 378/378 [00:06<00:00, 57.65it/s]\n",
      "100%|████████████████████████████████████████████████████████████████████████████████| 378/378 [00:06<00:00, 56.88it/s]\n",
      "100%|████████████████████████████████████████████████████████████████████████████████| 378/378 [00:06<00:00, 56.70it/s]\n",
      "100%|████████████████████████████████████████████████████████████████████████████████| 378/378 [00:06<00:00, 56.86it/s]\n",
      "100%|████████████████████████████████████████████████████████████████████████████████| 378/378 [00:06<00:00, 56.31it/s]\n",
      "100%|████████████████████████████████████████████████████████████████████████████████| 378/378 [00:06<00:00, 55.98it/s]\n",
      "100%|████████████████████████████████████████████████████████████████████████████████| 378/378 [00:06<00:00, 56.25it/s]\n",
      "100%|████████████████████████████████████████████████████████████████████████████████| 378/378 [00:06<00:00, 55.75it/s]\n",
      "100%|████████████████████████████████████████████████████████████████████████████████| 378/378 [00:06<00:00, 56.36it/s]\n",
      "100%|████████████████████████████████████████████████████████████████████████████████| 378/378 [00:06<00:00, 56.08it/s]\n",
      "100%|████████████████████████████████████████████████████████████████████████████████| 378/378 [00:07<00:00, 53.39it/s]\n",
      "100%|████████████████████████████████████████████████████████████████████████████████| 378/378 [00:06<00:00, 56.14it/s]\n",
      "100%|████████████████████████████████████████████████████████████████████████████████| 378/378 [00:06<00:00, 55.80it/s]\n",
      "100%|████████████████████████████████████████████████████████████████████████████████| 378/378 [00:06<00:00, 55.81it/s]\n",
      "100%|████████████████████████████████████████████████████████████████████████████████| 378/378 [00:06<00:00, 55.84it/s]\n",
      "100%|████████████████████████████████████████████████████████████████████████████████| 378/378 [00:06<00:00, 54.85it/s]\n",
      "100%|████████████████████████████████████████████████████████████████████████████████| 378/378 [00:06<00:00, 56.26it/s]\n",
      "100%|████████████████████████████████████████████████████████████████████████████████| 378/378 [00:06<00:00, 56.14it/s]\n",
      "100%|████████████████████████████████████████████████████████████████████████████████| 378/378 [00:06<00:00, 56.39it/s]\n",
      "100%|████████████████████████████████████████████████████████████████████████████████| 378/378 [00:06<00:00, 55.03it/s]\n",
      "100%|████████████████████████████████████████████████████████████████████████████████| 378/378 [00:06<00:00, 54.96it/s]\n",
      "100%|████████████████████████████████████████████████████████████████████████████████| 378/378 [00:06<00:00, 54.12it/s]\n",
      "100%|████████████████████████████████████████████████████████████████████████████████| 378/378 [00:07<00:00, 52.86it/s]\n",
      "100%|████████████████████████████████████████████████████████████████████████████████| 378/378 [00:06<00:00, 55.17it/s]\n",
      "100%|████████████████████████████████████████████████████████████████████████████████| 378/378 [00:06<00:00, 54.87it/s]\n",
      "100%|████████████████████████████████████████████████████████████████████████████████| 378/378 [00:06<00:00, 55.63it/s]\n",
      "100%|████████████████████████████████████████████████████████████████████████████████| 378/378 [00:06<00:00, 50.47it/s]\n",
      "100%|████████████████████████████████████████████████████████████████████████████████| 378/378 [00:06<00:00, 54.39it/s]\n",
      "100%|████████████████████████████████████████████████████████████████████████████████| 378/378 [00:06<00:00, 55.69it/s]\n",
      "100%|████████████████████████████████████████████████████████████████████████████████| 378/378 [00:06<00:00, 55.52it/s]\n",
      "100%|████████████████████████████████████████████████████████████████████████████████| 378/378 [00:06<00:00, 54.65it/s]\n",
      "100%|████████████████████████████████████████████████████████████████████████████████| 378/378 [00:06<00:00, 56.09it/s]\n",
      "100%|████████████████████████████████████████████████████████████████████████████████| 378/378 [00:06<00:00, 56.11it/s]\n",
      "100%|████████████████████████████████████████████████████████████████████████████████| 378/378 [00:06<00:00, 55.97it/s]\n",
      "100%|████████████████████████████████████████████████████████████████████████████████| 378/378 [00:06<00:00, 56.01it/s]\n",
      "100%|████████████████████████████████████████████████████████████████████████████████| 378/378 [00:06<00:00, 54.79it/s]\n",
      "100%|████████████████████████████████████████████████████████████████████████████████| 378/378 [00:06<00:00, 55.66it/s]\n",
      "100%|████████████████████████████████████████████████████████████████████████████████| 378/378 [00:06<00:00, 55.21it/s]\n",
      "100%|████████████████████████████████████████████████████████████████████████████████| 378/378 [00:06<00:00, 55.21it/s]\n",
      "100%|████████████████████████████████████████████████████████████████████████████████| 378/378 [00:07<00:00, 53.78it/s]\n",
      "100%|████████████████████████████████████████████████████████████████████████████████| 378/378 [00:06<00:00, 55.61it/s]\n",
      "100%|████████████████████████████████████████████████████████████████████████████████| 378/378 [00:06<00:00, 55.60it/s]\n",
      "100%|████████████████████████████████████████████████████████████████████████████████| 378/378 [00:06<00:00, 56.06it/s]\n",
      "100%|████████████████████████████████████████████████████████████████████████████████| 378/378 [00:06<00:00, 56.73it/s]\n",
      "100%|████████████████████████████████████████████████████████████████████████████████| 378/378 [00:06<00:00, 56.20it/s]\n",
      "100%|████████████████████████████████████████████████████████████████████████████████| 378/378 [00:06<00:00, 56.34it/s]\n"
     ]
    }
   ],
   "source": [
    "net2=Autoencoder(train_matrix.shape[1])\n",
    "training_loss = training_loop(net2,total_dl,num_epochs=num_epochs_to_train, lr=0.0001,criterion_func1=nn.CosineSimilarity)"
   ]
  },
  {
   "cell_type": "markdown",
   "metadata": {},
   "source": [
    "### Prediction part "
   ]
  },
  {
   "cell_type": "code",
   "execution_count": 27,
   "metadata": {},
   "outputs": [
    {
     "name": "stderr",
     "output_type": "stream",
     "text": [
      "C:\\Users\\gilad\\Anaconda3\\lib\\site-packages\\ipykernel_launcher.py:3: UserWarning: To copy construct from a tensor, it is recommended to use sourceTensor.clone().detach() or sourceTensor.clone().detach().requires_grad_(True), rather than torch.tensor(sourceTensor).\n",
      "  This is separate from the ipykernel package so we can avoid doing imports until\n",
      "C:\\Users\\gilad\\Anaconda3\\lib\\site-packages\\ipykernel_launcher.py:4: UserWarning: To copy construct from a tensor, it is recommended to use sourceTensor.clone().detach() or sourceTensor.clone().detach().requires_grad_(True), rather than torch.tensor(sourceTensor).\n",
      "  after removing the cwd from sys.path.\n",
      "C:\\Users\\gilad\\Anaconda3\\lib\\site-packages\\ipykernel_launcher.py:5: UserWarning: To copy construct from a tensor, it is recommended to use sourceTensor.clone().detach() or sourceTensor.clone().detach().requires_grad_(True), rather than torch.tensor(sourceTensor).\n",
      "  \"\"\"\n"
     ]
    }
   ],
   "source": [
    "User_ids = torch.tensor(np.array(random_test[\"UserID\"])) #get data\n",
    "Items_1 = torch.tensor(np.array(random_test[\"Item1\"]))\n",
    "Items_2 = torch.tensor(np.array(random_test[\"Item2\"]))\n",
    "\n",
    "random_test_ds=MakeBinarySet(User_ids,Items_1,Items_2)\n",
    "random_test_dl = DataLoader(random_test_ds, batch_size=2056, shuffle=False) #create test data loaders\n",
    "\n",
    "User_ids = torch.tensor(np.array(popularity_test[\"UserID\"]))\n",
    "Items_1 = torch.tensor(np.array(popularity_test[\"Item1\"]))\n",
    "Items_2 = torch.tensor(np.array(popularity_test[\"Item2\"]))\n",
    "\n",
    "popularity_test_ds=MakeBinarySet(User_ids,Items_1,Items_2)\n",
    "popularity_test_dl = DataLoader(popularity_test_ds, batch_size=2056, shuffle=False) "
   ]
  },
  {
   "cell_type": "code",
   "execution_count": 28,
   "metadata": {},
   "outputs": [],
   "source": [
    "random_test_res,diff_ran,stren1=get_binary_predictions(random_test_dl,net2,train_matrix) #predict\n",
    "popularity_test_res,diff_pop,stren2=get_binary_predictions(popularity_test_dl,net2,train_matrix)\n"
   ]
  },
  {
   "cell_type": "markdown",
   "metadata": {},
   "source": [
    "## Performance comparison "
   ]
  },
  {
   "cell_type": "code",
   "execution_count": 29,
   "metadata": {},
   "outputs": [],
   "source": [
    "dl_total=creating_binary_dataloader(range(train_matrix.shape[0]))"
   ]
  },
  {
   "cell_type": "code",
   "execution_count": 30,
   "metadata": {},
   "outputs": [
    {
     "name": "stdout",
     "output_type": "stream",
     "text": [
      "Recall: 0.88065\n"
     ]
    }
   ],
   "source": [
    "test_set_answ,diff_test,stren_test=get_binary_predictions(dl_total,net2,train_matrix_c)\n",
    "predictions=1-np.array(list(test_set_answ.values())) #becuase in our case 0 is positive, unlike sci-kit learn, which expects 1.\n",
    "recall=recall_score(np.ones((len(predictions),)), predictions)\n",
    "print(\"Recall:\", np.round(recall,5))\n"
   ]
  },
  {
   "cell_type": "code",
   "execution_count": 31,
   "metadata": {},
   "outputs": [],
   "source": [
    "def compare_diffs(diff_lst_1,diff_lst_2,strength1,strength2):\n",
    "    diff_lst_1=np.array(diff_lst_1)\n",
    "    diff_lst_2=np.array(diff_lst_2)\n",
    "    mu1,mu2=np.around(np.mean(np.abs(diff_lst_1)),6),np.around(np.mean(np.abs(diff_lst_2)),6)\n",
    "    print(\"Mean absolute difference between predictions:\\nRandom: {}\\nPopularity: {}\\n\".format(mu1,mu2))\n",
    "    sd1,sd2=np.around(np.std(np.abs(diff_lst_1)),6),np.around(np.std(np.abs(diff_lst_2)),6)\n",
    "    print(\"Mean absolute difference's standard deviation:\\nRandom: {}\\nPopularity: {}\\n\".format(sd1,sd2))\n",
    "    print(\"Mean Rand Test Signal Strength: {}\\nMean Popularity Test Signal Strength: {}\".format(np.around(np.mean(strength1),6),np.around(np.mean(strength2),6)))"
   ]
  },
  {
   "cell_type": "code",
   "execution_count": 32,
   "metadata": {},
   "outputs": [
    {
     "name": "stdout",
     "output_type": "stream",
     "text": [
      "Mean absolute difference between predictions:\n",
      "Random: 0.222597\n",
      "Popularity: 0.202437\n",
      "\n",
      "Mean absolute difference's standard deviation:\n",
      "Random: 0.204232\n",
      "Popularity: 0.186927\n",
      "\n",
      "Mean Rand Test Signal Strength: 0.256617\n",
      "Mean Popularity Test Signal Strength: 0.286931\n"
     ]
    }
   ],
   "source": [
    "compare_diffs(diff_ran,diff_pop,stren1,stren2)"
   ]
  },
  {
   "cell_type": "markdown",
   "metadata": {},
   "source": [
    "## Creating the files with predictions"
   ]
  },
  {
   "cell_type": "code",
   "execution_count": 33,
   "metadata": {},
   "outputs": [],
   "source": [
    "torch.save(net2,\"Our_AE_Params.pt\")"
   ]
  },
  {
   "cell_type": "code",
   "execution_count": 34,
   "metadata": {},
   "outputs": [],
   "source": [
    "def write_to_csv(data,fname):\n",
    "    with open(fname, 'w', newline='') as file:\n",
    "        writer = csv.writer(file)\n",
    "        writer.writerow([\"UserID\",\"Item1\",\"Item2\",\"BitClassification\"])\n",
    "        for key,value in data.items():\n",
    "            writer.writerow([key[0],key[1],key[2],value])"
   ]
  },
  {
   "cell_type": "code",
   "execution_count": 35,
   "metadata": {},
   "outputs": [],
   "source": [
    "write_to_csv(random_test_res,'RandomTest_Results.csv')\n",
    "write_to_csv(popularity_test_res,'PopularityTest_Results.csv')"
   ]
  }
 ],
 "metadata": {
  "kernelspec": {
   "display_name": "Python 3",
   "language": "python",
   "name": "python3"
  },
  "language_info": {
   "codemirror_mode": {
    "name": "ipython",
    "version": 3
   },
   "file_extension": ".py",
   "mimetype": "text/x-python",
   "name": "python",
   "nbconvert_exporter": "python",
   "pygments_lexer": "ipython3",
   "version": "3.7.1"
  }
 },
 "nbformat": 4,
 "nbformat_minor": 5
}
